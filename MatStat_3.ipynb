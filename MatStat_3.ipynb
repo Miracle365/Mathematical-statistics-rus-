{
 "cells": [
  {
   "cell_type": "markdown",
   "metadata": {},
   "source": [
    "# Отрицательное биномиальное распределение"
   ]
  },
  {
   "cell_type": "markdown",
   "metadata": {},
   "source": [
    "3.1 Нахождение выборочного среднего и выборочной дисперсии"
   ]
  },
  {
   "cell_type": "code",
   "execution_count": 3,
   "metadata": {},
   "outputs": [],
   "source": [
    "import numpy as np\n",
    "\n",
    "def Geom(prob):\n",
    "    j=0\n",
    "    k = np.random.binomial(size=1, n=1, p=prob)\n",
    "    while k==0:\n",
    "        j=j+1\n",
    "        k = np.random.binomial(size=1, n=1, p=prob)\n",
    "    return j\n",
    "\n",
    "def Neg_Binom(r, prob): #r, prob - параметры, задающие NB распределение\n",
    "    xi = 0\n",
    "    for i in range(r):\n",
    "        xi += Geom(prob)\n",
    "    return xi\n",
    "\n",
    "def NewSample(sample, p, r):\n",
    "    lstRes = np.array([])\n",
    "    i = 1\n",
    "    for i in range(sample):\n",
    "        lstRes = np.append(lstRes, Neg_Binom(r, p))\n",
    "    return lstRes\n",
    "\n",
    "a1 = np.arange(100000) #5 реализаций выборок при n = 100000\n",
    "a = np.array([])\n",
    "i = 1\n",
    "for i in range(5):\n",
    "    a = np.append(a, a1)\n",
    "a = a.reshape([5, 100000])\n",
    "\n",
    "a[0] = NewSample(100000, 0.6, 3)\n",
    "a[1] = NewSample(100000, 0.6, 3)\n",
    "a[2] = NewSample(100000, 0.6, 3)\n",
    "a[3] = NewSample(100000, 0.6, 3)\n",
    "a[4] = NewSample(100000, 0.6, 3)\n",
    "\n",
    "b1 = np.arange(1000) #5 реализаций выборок при n = 1000\n",
    "b = np.array([])\n",
    "i = 1\n",
    "for i in range(5):\n",
    "    b = np.append(b, b1)\n",
    "b = b.reshape([5, 1000])\n",
    "\n",
    "b[0] = NewSample(1000, 0.6, 3)\n",
    "b[1] = NewSample(1000, 0.6, 3)\n",
    "b[2] = NewSample(1000, 0.6, 3)\n",
    "b[3] = NewSample(1000, 0.6, 3)\n",
    "b[4] = NewSample(1000, 0.6, 3)\n",
    "\n",
    "c1 = np.arange(100) #при n = 100\n",
    "c = np.array([])\n",
    "i = 1\n",
    "for i in range(5):\n",
    "    c = np.append(c, c1)\n",
    "c = c.reshape([5, 100])\n",
    "\n",
    "c[0] = NewSample(100, 0.6, 3)\n",
    "c[1] = NewSample(100, 0.6, 3)\n",
    "c[2] = NewSample(100, 0.6, 3)\n",
    "c[3] = NewSample(100, 0.6, 3)\n",
    "c[4] = NewSample(100, 0.6, 3)\n",
    "\n",
    "d1 = np.arange(10) # n = 10\n",
    "d = np.array([])\n",
    "i = 1\n",
    "for i in range(5):\n",
    "    d = np.append(d, d1)\n",
    "d = d.reshape([5, 10])\n",
    "\n",
    "d[0] = NewSample(10, 0.6, 3)\n",
    "d[1] = NewSample(10, 0.6, 3)\n",
    "d[2] = NewSample(10, 0.6, 3)\n",
    "d[3] = NewSample(10, 0.6, 3)\n",
    "d[4] = NewSample(10, 0.6, 3)\n",
    "\n",
    "e1 = np.arange(5) # n = 5\n",
    "e = np.array([])\n",
    "i = 1\n",
    "for i in range(5):\n",
    "    e = np.append(e, e1)\n",
    "e = e.reshape([5, 5])\n",
    "\n",
    "e[0] = NewSample(5, 0.6, 3)\n",
    "e[1] = NewSample(5, 0.6, 3)\n",
    "e[2] = NewSample(5, 0.6, 3)\n",
    "e[3] = NewSample(5, 0.6, 3)\n",
    "e[4] = NewSample(5, 0.6, 3)"
   ]
  },
  {
   "cell_type": "code",
   "execution_count": 4,
   "metadata": {},
   "outputs": [
    {
     "name": "stdout",
     "output_type": "stream",
     "text": [
      "[1.99973 2.00247 1.99974 2.00725 2.00056]\n"
     ]
    }
   ],
   "source": [
    "VibAverA = np.array([0.0, 0.0, 0.0, 0.0, 0.0]) # Ищем выборочное среднее для выборок с n = 100000\n",
    "for i in range(5): VibAverA[i] = np.sum(a[i])/len(a[i])\n",
    "print(VibAverA)"
   ]
  },
  {
   "cell_type": "code",
   "execution_count": 8,
   "metadata": {},
   "outputs": [
    {
     "name": "stdout",
     "output_type": "stream",
     "text": [
      "[2.031 1.998 2.091 1.972 1.889]\n"
     ]
    }
   ],
   "source": [
    "VibAverB = np.array([0.0, 0.0, 0.0, 0.0, 0.0]) # Ищем выборочное среднее для выборок с n = 1000\n",
    "for i in range(5):\n",
    "    VibAverB[i] = np.sum(b[i])/len(b[i])\n",
    "print(VibAverB)"
   ]
  },
  {
   "cell_type": "code",
   "execution_count": 9,
   "metadata": {},
   "outputs": [
    {
     "name": "stdout",
     "output_type": "stream",
     "text": [
      "[1.73 2.18 1.78 1.99 1.85]\n"
     ]
    }
   ],
   "source": [
    "VibAverC = np.array([0.0, 0.0, 0.0, 0.0, 0.0]) # Ищем выборочное среднее для выборок с n = 100\n",
    "for i in range(5):\n",
    "    VibAverC[i] = np.sum(c[i])/len(c[i])\n",
    "print(VibAverC)"
   ]
  },
  {
   "cell_type": "code",
   "execution_count": 10,
   "metadata": {},
   "outputs": [
    {
     "name": "stdout",
     "output_type": "stream",
     "text": [
      "[2.1 1.3 1.1 1.5 2.1]\n"
     ]
    }
   ],
   "source": [
    "VibAverD = np.array([0.0, 0.0, 0.0, 0.0, 0.0]) # Ищем выборочное среднее для выборок с n = 10\n",
    "for i in range(5): \n",
    "    VibAverD[i] = np.sum(d[i])/len(d[i])\n",
    "print(VibAverD)"
   ]
  },
  {
   "cell_type": "code",
   "execution_count": 11,
   "metadata": {},
   "outputs": [
    {
     "name": "stdout",
     "output_type": "stream",
     "text": [
      "[3.2 2.4 2.6 2.  3.8]\n"
     ]
    }
   ],
   "source": [
    "VibAverE = np.array([0.0, 0.0, 0.0, 0.0, 0.0]) # Ищем выборочное среднее для выборок с n = 5\n",
    "for i in range(5):\n",
    "    VibAverE[i] = np.sum(e[i])/len(e[i])\n",
    "print(VibAverE)"
   ]
  },
  {
   "cell_type": "code",
   "execution_count": 12,
   "metadata": {},
   "outputs": [
    {
     "name": "stdout",
     "output_type": "stream",
     "text": [
      "[3.35176993 3.3517239  3.32831993 3.36127744 3.33073969]\n"
     ]
    }
   ],
   "source": [
    "VibDispA = np.array([0.0, 0.0, 0.0, 0.0, 0.0]) # Ищем выборочную дисперсию для выборок с n = 100000\n",
    "for i in range(5):\n",
    "    for t in a[i]: VibDispA[i] = VibDispA[i] + ((t - VibAverA[i])**2)/len(a[i])\n",
    "print(VibDispA)"
   ]
  },
  {
   "cell_type": "code",
   "execution_count": 13,
   "metadata": {},
   "outputs": [
    {
     "name": "stdout",
     "output_type": "stream",
     "text": [
      "[3.498039 3.089996 3.604719 3.029216 3.142679]\n"
     ]
    }
   ],
   "source": [
    "VibDispB = np.array([0.0, 0.0, 0.0, 0.0, 0.0]) # Ищем выборочную дисперсию для выборок с n = 1000\n",
    "for i in range(5):\n",
    "    for t in b[i]: VibDispB[i] = VibDispB[i] + ((t - VibAverB[i])**2)/len(b[i])\n",
    "print(VibDispB)"
   ]
  },
  {
   "cell_type": "code",
   "execution_count": 14,
   "metadata": {},
   "outputs": [
    {
     "name": "stdout",
     "output_type": "stream",
     "text": [
      "[3.6371 4.8076 2.3316 3.6099 3.0475]\n"
     ]
    }
   ],
   "source": [
    "VibDispC = np.array([0.0, 0.0, 0.0, 0.0, 0.0]) # Ищем выборочную дисперсию для выборок с n = 100\n",
    "for i in range(5):\n",
    "    for t in c[i]: VibDispC[i] = VibDispC[i] + ((t - VibAverC[i])**2)/len(c[i])\n",
    "print(VibDispC)"
   ]
  },
  {
   "cell_type": "code",
   "execution_count": 15,
   "metadata": {},
   "outputs": [
    {
     "name": "stdout",
     "output_type": "stream",
     "text": [
      "[2.69 2.01 1.29 0.65 4.69]\n"
     ]
    }
   ],
   "source": [
    "VibDispD = np.array([0.0, 0.0, 0.0, 0.0, 0.0]) # Ищем выборочную дисперсию для выборок с n = 10\n",
    "for i in range(5):\n",
    "    for t in d[i]: VibDispD[i] = VibDispD[i] + ((t - VibAverD[i])**2)/len(d[i])\n",
    "print(VibDispD)"
   ]
  },
  {
   "cell_type": "code",
   "execution_count": 16,
   "metadata": {},
   "outputs": [
    {
     "name": "stdout",
     "output_type": "stream",
     "text": [
      "[ 1.76  1.04  4.64  1.6  12.56]\n"
     ]
    }
   ],
   "source": [
    "VibDispE = np.array([0.0, 0.0, 0.0, 0.0, 0.0]) # Ищем выборочную дисперсию для выборок с n = 5\n",
    "for i in range(5):\n",
    "    for t in e[i]: VibDispE[i] = VibDispE[i] + ((t - VibAverE[i])**2)/len(e[i])\n",
    "print(VibDispE)"
   ]
  },
  {
   "cell_type": "code",
   "execution_count": 32,
   "metadata": {},
   "outputs": [
    {
     "name": "stdout",
     "output_type": "stream",
     "text": [
      "1.1999999999999997\n",
      "0.39999999999999947\n",
      "0.5999999999999996\n",
      "4.440892098500626e-16\n",
      "1.7999999999999994\n",
      "\n"
     ]
    }
   ],
   "source": [
    "#Сравнение получившихся значений выборочного среднего для разных выборок и значений оцениваемого параметра - мат.ожидания\n",
    "import math\n",
    "\n",
    "def MatComp(sample, p, r):\n",
    "    for t in sample:\n",
    "        print(str(math.sqrt((t - float(r*(1-p)/p))**2)),)\n",
    "    print()\n",
    "    \n",
    "MatComp(VibAverE, 0.6, 3) # сравнение с выборками при n = 5"
   ]
  },
  {
   "cell_type": "code",
   "execution_count": 33,
   "metadata": {},
   "outputs": [
    {
     "name": "stdout",
     "output_type": "stream",
     "text": [
      "0.09999999999999964\n",
      "0.7000000000000004\n",
      "0.9000000000000004\n",
      "0.5000000000000004\n",
      "0.09999999999999964\n",
      "\n"
     ]
    }
   ],
   "source": [
    "MatComp(VibAverD, 0.6, 3) # сравнение с выборками при n = 10"
   ]
  },
  {
   "cell_type": "code",
   "execution_count": 34,
   "metadata": {},
   "outputs": [
    {
     "name": "stdout",
     "output_type": "stream",
     "text": [
      "0.27000000000000046\n",
      "0.17999999999999972\n",
      "0.22000000000000042\n",
      "0.010000000000000453\n",
      "0.15000000000000036\n",
      "\n"
     ]
    }
   ],
   "source": [
    "MatComp(VibAverC, 0.6, 3) # сравнение с выборками при n = 100"
   ]
  },
  {
   "cell_type": "code",
   "execution_count": 35,
   "metadata": {},
   "outputs": [
    {
     "name": "stdout",
     "output_type": "stream",
     "text": [
      "0.030999999999999694\n",
      "0.002000000000000446\n",
      "0.09099999999999975\n",
      "0.02800000000000047\n",
      "0.11100000000000043\n",
      "\n"
     ]
    }
   ],
   "source": [
    "MatComp(VibAverB, 0.6, 3) # сравнение с выборками при n = 1000"
   ]
  },
  {
   "cell_type": "code",
   "execution_count": 36,
   "metadata": {},
   "outputs": [
    {
     "name": "stdout",
     "output_type": "stream",
     "text": [
      "0.00027000000000043656\n",
      "0.00246999999999975\n",
      "0.00026000000000037105\n",
      "0.007249999999999535\n",
      "0.0005599999999996719\n",
      "\n"
     ]
    }
   ],
   "source": [
    "MatComp(VibAverA, 0.6, 3) # сравнение с выборками при n = 100000"
   ]
  },
  {
   "cell_type": "code",
   "execution_count": 37,
   "metadata": {},
   "outputs": [
    {
     "name": "stdout",
     "output_type": "stream",
     "text": [
      "1.573333333333334\n",
      "2.293333333333334\n",
      "1.3066666666666666\n",
      "1.7333333333333338\n",
      "9.226666666666667\n",
      "\n"
     ]
    }
   ],
   "source": [
    "#Сравнение получившихся значений выборочной дисперсии для разных выборок и значений оцениваемого параметра - дисперсии\n",
    "def DispComp(sample, p, r):\n",
    "    for t in sample:\n",
    "        print(str(math.sqrt((t - float(r*(1-p)/(p**2)))**2)),)\n",
    "    print()\n",
    "    \n",
    "DispComp(VibDispE, 0.6, 3) # сравнение с выборками при n = 5"
   ]
  },
  {
   "cell_type": "code",
   "execution_count": 38,
   "metadata": {},
   "outputs": [
    {
     "name": "stdout",
     "output_type": "stream",
     "text": [
      "0.643333333333334\n",
      "1.3233333333333337\n",
      "2.043333333333334\n",
      "2.6833333333333336\n",
      "1.3566666666666682\n",
      "\n"
     ]
    }
   ],
   "source": [
    "DispComp(VibDispD, 0.6, 3) # сравнение с выборками при n = 10"
   ]
  },
  {
   "cell_type": "code",
   "execution_count": 39,
   "metadata": {},
   "outputs": [
    {
     "name": "stdout",
     "output_type": "stream",
     "text": [
      "0.30376666666667074\n",
      "1.4742666666666704\n",
      "1.0017333333333358\n",
      "0.2765666666666702\n",
      "0.28583333333333316\n",
      "\n"
     ]
    }
   ],
   "source": [
    "DispComp(VibDispC, 0.6, 3) # сравнение с выборками при n = 100"
   ]
  },
  {
   "cell_type": "code",
   "execution_count": 40,
   "metadata": {},
   "outputs": [
    {
     "name": "stdout",
     "output_type": "stream",
     "text": [
      "0.16470566666669129\n",
      "0.2433373333333133\n",
      "0.2713856666666712\n",
      "0.3041173333333158\n",
      "0.19065433333332704\n",
      "\n"
     ]
    }
   ],
   "source": [
    "DispComp(VibDispB, 0.6, 3) # сравнение с выборками при n = 1000"
   ]
  },
  {
   "cell_type": "code",
   "execution_count": 41,
   "metadata": {},
   "outputs": [
    {
     "name": "stdout",
     "output_type": "stream",
     "text": [
      "0.018436593765510434\n",
      "0.01839056576610565\n",
      "0.005013400933726597\n",
      "0.02794410416573756\n",
      "0.002593646932107063\n",
      "\n"
     ]
    }
   ],
   "source": [
    "DispComp(VibDispA, 0.6, 3) # сравнение с выборками при n = 100000"
   ]
  },
  {
   "cell_type": "code",
   "execution_count": 43,
   "metadata": {},
   "outputs": [
    {
     "name": "stdout",
     "output_type": "stream",
     "text": [
      "Мат. ожидание равно 2.9999999999999996\n",
      "Дисперсия равна 1.666666666666666\n"
     ]
    }
   ],
   "source": [
    "print('Мат. ожидание равно '+str(math.sqrt((t - float(3*(1-0.6)/0.6))**2)))\n",
    "print('Дисперсия равна '+str(math.sqrt((t - float(3*(1-0.6)/(0.6**2)))**2)))"
   ]
  },
  {
   "cell_type": "code",
   "execution_count": null,
   "metadata": {},
   "outputs": [],
   "source": []
  }
 ],
 "metadata": {
  "kernelspec": {
   "display_name": "Python 3",
   "language": "python",
   "name": "python3"
  },
  "language_info": {
   "codemirror_mode": {
    "name": "ipython",
    "version": 3
   },
   "file_extension": ".py",
   "mimetype": "text/x-python",
   "name": "python",
   "nbconvert_exporter": "python",
   "pygments_lexer": "ipython3",
   "version": "3.7.3"
  }
 },
 "nbformat": 4,
 "nbformat_minor": 2
}
